{
 "cells": [
  {
   "cell_type": "markdown",
   "metadata": {},
   "source": [
    "# Estatística - P4 - Lista 10"
   ]
  },
  {
   "cell_type": "markdown",
   "metadata": {},
   "source": [
    "## Ex. 1)"
   ]
  },
  {
   "cell_type": "markdown",
   "metadata": {},
   "source": [
    "Definindo a tabela ($x, y$)"
   ]
  },
  {
   "cell_type": "code",
   "execution_count": 1,
   "metadata": {},
   "outputs": [],
   "source": [
    "import pandas as pd\n",
    "import numpy as np\n",
    "import seaborn as sns"
   ]
  },
  {
   "cell_type": "code",
   "execution_count": 2,
   "metadata": {},
   "outputs": [],
   "source": [
    "table = pd.DataFrame({'x': [10, 13, 5, 7, 20],\n",
    "                     'y': [4, 3, 6, 5, 2]})"
   ]
  },
  {
   "cell_type": "code",
   "execution_count": 3,
   "metadata": {},
   "outputs": [
    {
     "data": {
      "text/html": [
       "<div>\n",
       "<style scoped>\n",
       "    .dataframe tbody tr th:only-of-type {\n",
       "        vertical-align: middle;\n",
       "    }\n",
       "\n",
       "    .dataframe tbody tr th {\n",
       "        vertical-align: top;\n",
       "    }\n",
       "\n",
       "    .dataframe thead th {\n",
       "        text-align: right;\n",
       "    }\n",
       "</style>\n",
       "<table border=\"1\" class=\"dataframe\">\n",
       "  <thead>\n",
       "    <tr style=\"text-align: right;\">\n",
       "      <th></th>\n",
       "      <th>x</th>\n",
       "      <th>y</th>\n",
       "    </tr>\n",
       "  </thead>\n",
       "  <tbody>\n",
       "    <tr>\n",
       "      <th>0</th>\n",
       "      <td>10</td>\n",
       "      <td>4</td>\n",
       "    </tr>\n",
       "    <tr>\n",
       "      <th>1</th>\n",
       "      <td>13</td>\n",
       "      <td>3</td>\n",
       "    </tr>\n",
       "    <tr>\n",
       "      <th>2</th>\n",
       "      <td>5</td>\n",
       "      <td>6</td>\n",
       "    </tr>\n",
       "    <tr>\n",
       "      <th>3</th>\n",
       "      <td>7</td>\n",
       "      <td>5</td>\n",
       "    </tr>\n",
       "    <tr>\n",
       "      <th>4</th>\n",
       "      <td>20</td>\n",
       "      <td>2</td>\n",
       "    </tr>\n",
       "  </tbody>\n",
       "</table>\n",
       "</div>"
      ],
      "text/plain": [
       "    x  y\n",
       "0  10  4\n",
       "1  13  3\n",
       "2   5  6\n",
       "3   7  5\n",
       "4  20  2"
      ]
     },
     "execution_count": 3,
     "metadata": {},
     "output_type": "execute_result"
    }
   ],
   "source": [
    "table.head()"
   ]
  },
  {
   "cell_type": "markdown",
   "metadata": {},
   "source": [
    "### a) Faça o diagrama de dispersão dos dados."
   ]
  },
  {
   "cell_type": "code",
   "execution_count": 4,
   "metadata": {},
   "outputs": [
    {
     "data": {
      "text/plain": [
       "<matplotlib.axes._subplots.AxesSubplot at 0x7fe7838e7828>"
      ]
     },
     "execution_count": 4,
     "metadata": {},
     "output_type": "execute_result"
    },
    {
     "data": {
      "image/png": "[encoded data removed]",
      "text/plain": [
       "<Figure size 432x288 with 1 Axes>"
      ]
     },
     "metadata": {
      "needs_background": "light"
     },
     "output_type": "display_data"
    }
   ],
   "source": [
    "sns.scatterplot(table['x'], table['y'])"
   ]
  },
  {
   "cell_type": "markdown",
   "metadata": {},
   "source": [
    "### b) Encontre a reta de MQ, supondo a relação $E(y_i|x_i) = \\hat{y}_i = \\hat{\\alpha}+\\hat{\\beta}x_i$"
   ]
  },
  {
   "cell_type": "markdown",
   "metadata": {},
   "source": [
    "A reta de $\\hat{y}_i$ é tal que os valores de $\\hat{\\beta}$ e $\\hat{\\alpha}$ são, respectivamente:\n",
    "$$\\hat{\\beta} = \\dfrac{n\\bar{x}\\bar{y}-\\sum^n_{i=1}x_iy_i}{n\\bar{x}^2-\\sum^n_{i=1}x_i^2}$$\n",
    "e\n",
    "$$\\hat{\\alpha} = \\bar{y} - \\hat{\\beta}\\bar{x}$$"
   ]
  },
  {
   "cell_type": "code",
   "execution_count": 1,
   "metadata": {},
   "outputs": [
    {
     "ename": "NameError",
     "evalue": "name 'table' is not defined",
     "output_type": "error",
     "traceback": [
      "\u001b[0;31m---------------------------------------------------------------------------\u001b[0m",
      "\u001b[0;31mNameError\u001b[0m                                 Traceback (most recent call last)",
      "\u001b[0;32m<ipython-input-1-316331ea2112>\u001b[0m in \u001b[0;36m<module>\u001b[0;34m\u001b[0m\n\u001b[0;32m----> 1\u001b[0;31m \u001b[0mtable\u001b[0m\u001b[0;34m[\u001b[0m\u001b[0;34m'X'\u001b[0m\u001b[0;34m]\u001b[0m\u001b[0;34m.\u001b[0m\u001b[0mmean\u001b[0m\u001b[0;34m(\u001b[0m\u001b[0;34m)\u001b[0m\u001b[0;34m\u001b[0m\u001b[0;34m\u001b[0m\u001b[0m\n\u001b[0m",
      "\u001b[0;31mNameError\u001b[0m: name 'table' is not defined"
     ]
    }
   ],
   "source": []
  },
  {
   "cell_type": "code",
   "execution_count": 5,
   "metadata": {},
   "outputs": [],
   "source": [
    "x_mean = table['x'].mean()\n",
    "y_mean = table['y'].mean()\n",
    "\n",
    "n = table.shape[0]\n",
    "\n",
    "xy = (table['x']*table['y']).sum()\n",
    "x2 = (table['x']**2).sum()"
   ]
  },
  {
   "cell_type": "code",
   "execution_count": 6,
   "metadata": {},
   "outputs": [
    {
     "data": {
      "text/plain": [
       "(-0.2608695652173913, 6.869565217391305)"
      ]
     },
     "execution_count": 6,
     "metadata": {},
     "output_type": "execute_result"
    }
   ],
   "source": [
    "beta_ch = ((n*x_mean*y_mean)-xy)/(n*x_mean**2-x2)\n",
    "alpha_ch = y_mean - beta_ch*x_mean\n",
    "beta_ch, alpha_ch"
   ]
  },
  {
   "cell_type": "code",
   "execution_count": 7,
   "metadata": {},
   "outputs": [
    {
     "data": {
      "text/plain": [
       "<matplotlib.axes._subplots.AxesSubplot at 0x7fe7817e08d0>"
      ]
     },
     "execution_count": 7,
     "metadata": {},
     "output_type": "execute_result"
    },
    {
     "data": {
      "image/png": "[encoded data removed]",
      "text/plain": [
       "<Figure size 432x288 with 1 Axes>"
      ]
     },
     "metadata": {
      "needs_background": "light"
     },
     "output_type": "display_data"
    }
   ],
   "source": [
    "X = np.linspace(table['x'].min()-1, table['x'].max()+1)\n",
    "y_ch = alpha_ch + beta_ch*X\n",
    "\n",
    "sns.scatterplot(table['x'], table['y'])\n",
    "sns.lineplot(X, y_ch)"
   ]
  },
  {
   "cell_type": "markdown",
   "metadata": {},
   "source": [
    "### c) Qual o significado do coeficiente angular nesse caso? E do coeficiente linear?"
   ]
  },
  {
   "cell_type": "markdown",
   "metadata": {},
   "source": [
    "- O coeficiente angular ($\\hat{\\beta}$) representa, aqui, o acréscimo (ou decréscimo) esperado do valor esperado de $\\hat{y}$ quando aumenta-se uma unidade em $x$, ou seja, o tanto que é acrescentado ao valor do aluguel ao aumentar-se uma unidade de idade\n",
    "- O coeficiente linear ($\\hat{\\alpha}$) representa o valor esperado do valor de $\\hat{y}$ quando $x=0$, ou seja, qual é o valor do aluguel quando a casa é nova"
   ]
  },
  {
   "cell_type": "markdown",
   "metadata": {},
   "source": [
    "### d) Construa a Tabela ANOVA (Análise de Variância) para Regressão."
   ]
  },
  {
   "cell_type": "markdown",
   "metadata": {},
   "source": [
    "A tabela ANOVA para regressão é dada por:\n",
    "\n",
    "| **Fonte de variação (FV)** | **Graus de liberdade (GL)** | **Soma quadrática (SQ)** | **Quadrado médio (QM)** | **F** |\n",
    "| :- | :-: | :-: | :-: | :-: |\n",
    "| Regressão | $1$ | $SQReg = \\sum_{i=1}^n(\\hat{y}_i-\\bar{y})^2$ | $QMReg = SQReg$ | $F_{obs} = \\dfrac{QMReg}{QMRes}$ |\n",
    "| Resíduo | $n-2$ | $SQRes = \\sum_{i=1}^n(y_i-\\hat{y}_i)^2$ | $QMRes = \\dfrac{SQRes}{n-2}$ |  |\n",
    "| Total | $n-1$ | $SQTot = \\sum_{i=1}^n(y_i-\\bar{y})^2$ | $QMTot = \\dfrac{SQTot}{n-1}$ |  |"
   ]
  },
  {
   "cell_type": "code",
   "execution_count": 8,
   "metadata": {},
   "outputs": [
    {
     "data": {
      "text/plain": [
       "(0    4.260870\n",
       " 1    3.478261\n",
       " 2    5.565217\n",
       " 3    5.043478\n",
       " 4    1.652174\n",
       " Name: x, dtype: float64,\n",
       " 0    4\n",
       " 1    3\n",
       " 2    6\n",
       " 3    5\n",
       " 4    2\n",
       " Name: y, dtype: int64)"
      ]
     },
     "execution_count": 8,
     "metadata": {},
     "output_type": "execute_result"
    }
   ],
   "source": [
    "y = table['y']\n",
    "x = table['x']\n",
    "\n",
    "y_ch = alpha_ch + beta_ch*x\n",
    "y_ch, table['y']"
   ]
  },
  {
   "cell_type": "code",
   "execution_count": 9,
   "metadata": {},
   "outputs": [],
   "source": [
    "SQReg = ((y_ch-y_mean)**2).sum()\n",
    "SQRes = ((y-y_ch)**2).sum()\n",
    "SQTot = ((y-y_mean)**2).sum()\n",
    "\n",
    "QMReg = SQReg\n",
    "QMRes = SQRes/(n-2)\n",
    "QMTot = SQTot/(n-1)\n",
    "\n",
    "Fobs = QMReg/QMRes"
   ]
  },
  {
   "cell_type": "code",
   "execution_count": 10,
   "metadata": {},
   "outputs": [
    {
     "data": {
      "text/html": [
       "<div>\n",
       "<style scoped>\n",
       "    .dataframe tbody tr th:only-of-type {\n",
       "        vertical-align: middle;\n",
       "    }\n",
       "\n",
       "    .dataframe tbody tr th {\n",
       "        vertical-align: top;\n",
       "    }\n",
       "\n",
       "    .dataframe thead th {\n",
       "        text-align: right;\n",
       "    }\n",
       "</style>\n",
       "<table border=\"1\" class=\"dataframe\">\n",
       "  <thead>\n",
       "    <tr style=\"text-align: right;\">\n",
       "      <th></th>\n",
       "      <th>SQ</th>\n",
       "      <th>QM</th>\n",
       "      <th>F</th>\n",
       "    </tr>\n",
       "  </thead>\n",
       "  <tbody>\n",
       "    <tr>\n",
       "      <th>Regressão</th>\n",
       "      <td>9.39</td>\n",
       "      <td>9.39</td>\n",
       "      <td>46.29</td>\n",
       "    </tr>\n",
       "    <tr>\n",
       "      <th>Resíduo</th>\n",
       "      <td>0.61</td>\n",
       "      <td>0.20</td>\n",
       "      <td>46.29</td>\n",
       "    </tr>\n",
       "    <tr>\n",
       "      <th>Total</th>\n",
       "      <td>10.00</td>\n",
       "      <td>2.50</td>\n",
       "      <td>46.29</td>\n",
       "    </tr>\n",
       "  </tbody>\n",
       "</table>\n",
       "</div>"
      ],
      "text/plain": [
       "              SQ    QM      F\n",
       "Regressão   9.39  9.39  46.29\n",
       "Resíduo     0.61  0.20  46.29\n",
       "Total      10.00  2.50  46.29"
      ]
     },
     "execution_count": 10,
     "metadata": {},
     "output_type": "execute_result"
    }
   ],
   "source": [
    "list_reg = pd.DataFrame({'SQ': [SQReg, SQRes, SQTot],\n",
    "                         'QM': [QMReg, QMRes, QMTot],\n",
    "                         'F': [Fobs, Fobs, Fobs]}, index = ['Regressão', 'Resíduo', 'Total'])\n",
    "list_reg.round(2)"
   ]
  },
  {
   "cell_type": "markdown",
   "metadata": {},
   "source": [
    "Logo, a tabela ANOVA para regressão fica:\n",
    "\n",
    "| **Fonte de variação (FV)** | **Graus de liberdade (GL)** | **Soma quadrática (SQ)** | **Quadrado médio (QM)** | **F** |\n",
    "| :- | :-: | :-: | :-: | :-: |\n",
    "| Regressão | $1$ | $9.39$ | $9.39$ | $46.29$ |\n",
    "| Resíduo | $3$ | $0.61$ | $0.20$ |  |\n",
    "| Total | $4$ | $10.00$ | $2.50$ |  |"
   ]
  },
  {
   "cell_type": "markdown",
   "metadata": {},
   "source": [
    "### e) Quais as estimativas de $S$ e $S_e$ ? Você acha que a redução nos resíduos foi grande?"
   ]
  },
  {
   "cell_type": "markdown",
   "metadata": {},
   "source": [
    "Os valores estimados para $S$ e $S_e$ são, respectivamente, $0.20$ e $2.50$. É possível notar que $SQRes$ é equivalente a $0.61$, sendo $\\frac{SQRes}{SQTot} = 0.061$, ou seja, os dados são explicados apenas em um nível de $6.10\\%$ através do modelo 1, o qual desconsidera uma relação linear entre os dados de $x$ e $y$. Portanto, a redução de $S$ para $S_e$ foi significativa."
   ]
  },
  {
   "cell_type": "markdown",
   "metadata": {},
   "source": [
    "### (f) Qual o valor de $R$? Interprete esse número."
   ]
  },
  {
   "cell_type": "markdown",
   "metadata": {},
   "source": [
    "O valor de $R^2$ é dado pelo fator $SQReg/SQTot$, ou seja:"
   ]
  },
  {
   "cell_type": "code",
   "execution_count": 11,
   "metadata": {},
   "outputs": [
    {
     "data": {
      "text/plain": [
       "93.91"
      ]
     },
     "execution_count": 11,
     "metadata": {},
     "output_type": "execute_result"
    }
   ],
   "source": [
    "R2 = SQReg/SQTot\n",
    "round(R2*100, 2)"
   ]
  },
  {
   "cell_type": "markdown",
   "metadata": {},
   "source": [
    "Logo, o valor de $R$ é de $93.91\\%$. Este valor significa que o valor do aluguel das casa são descritas em $93.91\\%$ através da idade que elas possuem."
   ]
  },
  {
   "cell_type": "markdown",
   "metadata": {},
   "source": [
    "### g) Faça o teste de hipóteses $H_0:\\, \\beta=0$ versus $H_1:\\,\\beta\\ne0$ e interprete o resultado obtido."
   ]
  },
  {
   "cell_type": "markdown",
   "metadata": {},
   "source": [
    "Para testar a hipótese, utiliza-se o estimador para $\\beta$ dado por \n",
    "$$T = \\dfrac{\\hat{\\beta}-\\beta}{\\sqrt{S_e^2\\frac{1}{\\sum^n_{i=1}(x_i-\\bar{x})^2}}} \\tilde{} t_{n-2}$$\n",
    "\n",
    "Ainda, a região crítica será $RC = \\{T\\in\\mathbb{R} | T<-t_c$ ou $T>t_c\\}$, onde $t_c = t_{\\frac{\\alpha}{2}, n-2}$. Para $n-2 = 3$ e $\\alpha = 0.05$:"
   ]
  },
  {
   "cell_type": "code",
   "execution_count": 12,
   "metadata": {},
   "outputs": [],
   "source": [
    "from student import *\n",
    "\n",
    "student = import_student_table()"
   ]
  },
  {
   "cell_type": "code",
   "execution_count": 13,
   "metadata": {},
   "outputs": [
    {
     "data": {
      "text/plain": [
       "3.18"
      ]
     },
     "execution_count": 13,
     "metadata": {},
     "output_type": "execute_result"
    }
   ],
   "source": [
    "t_c = find_t(student, 1-0.05, 4)\n",
    "round(t_c,2)"
   ]
  },
  {
   "cell_type": "markdown",
   "metadata": {},
   "source": [
    "Logo, a RC será $RC = \\{T\\in\\mathbb{R} | T<-3.18$ ou $T>3.18\\}$. A estatística observada sob $H_0$ ($\\beta = 0$) será $t_0 = \\dfrac{\\hat{\\beta}}{\\sqrt{S_e^2\\frac{1}{\\sum^n_{i=1}(x_i-\\bar{x})^2}}}$"
   ]
  },
  {
   "cell_type": "code",
   "execution_count": 14,
   "metadata": {},
   "outputs": [
    {
     "data": {
      "text/plain": [
       "-15.1"
      ]
     },
     "execution_count": 14,
     "metadata": {},
     "output_type": "execute_result"
    }
   ],
   "source": [
    "t_0 = beta_ch/np.sqrt(QMRes**2/((x-x_mean)**2).sum())\n",
    "round(t_0, 2)"
   ]
  },
  {
   "cell_type": "markdown",
   "metadata": {},
   "source": [
    "Logo, $t_0\\in RC$, e $H_0$ é rejeitado, de forma que existe uma relação linear entre entre o valor de aluguel e a idade das casas."
   ]
  },
  {
   "cell_type": "markdown",
   "metadata": {},
   "source": [
    "## Ex 3)"
   ]
  },
  {
   "cell_type": "markdown",
   "metadata": {},
   "source": [
    "Iniciando a tabela:"
   ]
  },
  {
   "cell_type": "code",
   "execution_count": 15,
   "metadata": {},
   "outputs": [
    {
     "data": {
      "text/html": [
       "<div>\n",
       "<style scoped>\n",
       "    .dataframe tbody tr th:only-of-type {\n",
       "        vertical-align: middle;\n",
       "    }\n",
       "\n",
       "    .dataframe tbody tr th {\n",
       "        vertical-align: top;\n",
       "    }\n",
       "\n",
       "    .dataframe thead th {\n",
       "        text-align: right;\n",
       "    }\n",
       "</style>\n",
       "<table border=\"1\" class=\"dataframe\">\n",
       "  <thead>\n",
       "    <tr style=\"text-align: right;\">\n",
       "      <th></th>\n",
       "      <th>Tempo</th>\n",
       "      <th>Volume</th>\n",
       "    </tr>\n",
       "  </thead>\n",
       "  <tbody>\n",
       "    <tr>\n",
       "      <th>0</th>\n",
       "      <td>10.8</td>\n",
       "      <td>20.39</td>\n",
       "    </tr>\n",
       "    <tr>\n",
       "      <th>1</th>\n",
       "      <td>14.4</td>\n",
       "      <td>24.92</td>\n",
       "    </tr>\n",
       "    <tr>\n",
       "      <th>2</th>\n",
       "      <td>19.6</td>\n",
       "      <td>34.84</td>\n",
       "    </tr>\n",
       "    <tr>\n",
       "      <th>3</th>\n",
       "      <td>18.0</td>\n",
       "      <td>31.72</td>\n",
       "    </tr>\n",
       "    <tr>\n",
       "      <th>4</th>\n",
       "      <td>8.4</td>\n",
       "      <td>13.59</td>\n",
       "    </tr>\n",
       "  </tbody>\n",
       "</table>\n",
       "</div>"
      ],
      "text/plain": [
       "   Tempo  Volume\n",
       "0   10.8   20.39\n",
       "1   14.4   24.92\n",
       "2   19.6   34.84\n",
       "3   18.0   31.72\n",
       "4    8.4   13.59"
      ]
     },
     "execution_count": 15,
     "metadata": {},
     "output_type": "execute_result"
    }
   ],
   "source": [
    "table = pd.DataFrame({'Tempo': [10.8, 14.4, 19.6, 18.0, 8.4, 15.2, 11.0, 13.3, 23.1],\n",
    "                      'Volume': [20.39, 24.92, 34.84, 31.72, 13.59, 30.87, 17.84, 23.22, 39.65]\n",
    "                     })\n",
    "table.head()"
   ]
  },
  {
   "cell_type": "markdown",
   "metadata": {},
   "source": [
    "### a) Estime a reta de regressão do tempo de operação em função do volume."
   ]
  },
  {
   "cell_type": "code",
   "execution_count": 16,
   "metadata": {},
   "outputs": [],
   "source": [
    "def alpha_beta(data, args):\n",
    "    n = data.shape[0]\n",
    "    \n",
    "    x = args[0]\n",
    "    y = args[1]\n",
    "    \n",
    "    x_mean = data[x].mean()\n",
    "    y_mean = data[y].mean()\n",
    "\n",
    "    xy = (table[x]*table[y]).sum()\n",
    "    x2 = (table[x]**2).sum()\n",
    "    \n",
    "    beta_ch = ((n*x_mean*y_mean)-xy)/(n*x_mean**2-x2)\n",
    "    alpha_ch = y_mean - beta_ch*x_mean\n",
    "    return alpha_ch, beta_ch"
   ]
  },
  {
   "cell_type": "code",
   "execution_count": 17,
   "metadata": {},
   "outputs": [
    {
     "name": "stdout",
     "output_type": "stream",
     "text": [
      "0.66 0.54\n"
     ]
    }
   ],
   "source": [
    "alpha_ch, beta_ch = alpha_beta(table, ['Volume', 'Tempo'])\n",
    "print(round(alpha_ch, 2), round(beta_ch,2))"
   ]
  },
  {
   "cell_type": "code",
   "execution_count": 18,
   "metadata": {},
   "outputs": [],
   "source": [
    "tempo = table['Tempo']\n",
    "vol = table['Volume']\n",
    "\n",
    "y_ch = alpha_ch + beta_ch*vol"
   ]
  },
  {
   "cell_type": "code",
   "execution_count": 19,
   "metadata": {},
   "outputs": [
    {
     "data": {
      "text/plain": [
       "<matplotlib.axes._subplots.AxesSubplot at 0x7fe7810af160>"
      ]
     },
     "execution_count": 19,
     "metadata": {},
     "output_type": "execute_result"
    },
    {
     "data": {
      "image/png": "[encoded data removed]",
      "text/plain": [
       "<Figure size 432x288 with 1 Axes>"
      ]
     },
     "metadata": {
      "needs_background": "light"
     },
     "output_type": "display_data"
    }
   ],
   "source": [
    "sns.scatterplot(vol, tempo)\n",
    "sns.lineplot(vol, y_ch)"
   ]
  },
  {
   "cell_type": "markdown",
   "metadata": {},
   "source": [
    "Logo, os valores de $\\hat{\\alpha}$ e $\\hat{\\beta}$ são, respectivamente, $-0.11$ e $1.78$."
   ]
  },
  {
   "cell_type": "markdown",
   "metadata": {},
   "source": [
    "### b) Construa a tabela ANOVA para o modelo."
   ]
  },
  {
   "cell_type": "code",
   "execution_count": 20,
   "metadata": {},
   "outputs": [],
   "source": [
    "def ANOVA_regr(data, args):\n",
    "    n = data.shape[0]\n",
    "    x = args[0]\n",
    "    y = args[1]\n",
    "    \n",
    "    x_mean = data[x].mean()\n",
    "    y_mean = data[y].mean()\n",
    "    \n",
    "    alpha_ch, beta_ch = alpha_beta(table, args)\n",
    "    y_ch = alpha_ch + data[x]*beta_ch\n",
    "    \n",
    "    SQTot = ((data[y]-y_mean)**2).sum()\n",
    "    SQRes = ((data[y]-y_ch)**2).sum()\n",
    "    SQReg = ((y_ch-y_mean)**2).sum()\n",
    "    \n",
    "    QMReg = SQReg\n",
    "    QMRes = SQRes/(n-2)\n",
    "    QMTot = SQTot/(n-1)\n",
    "    \n",
    "    Fobs = QMReg/QMRes\n",
    "    \n",
    "    ANOVA_regr = pd.DataFrame({'n': [1, n-2, n-1],\n",
    "                               'SQ': [SQReg, SQRes, SQTot],\n",
    "                              'QM': [QMReg, QMRes, QMTot],\n",
    "                              'F': [Fobs, Fobs, Fobs]\n",
    "                             }, index = ['Regressão', 'Resíduo', 'Total'])\n",
    "    \n",
    "    return ANOVA_regr"
   ]
  },
  {
   "cell_type": "code",
   "execution_count": 21,
   "metadata": {},
   "outputs": [
    {
     "data": {
      "text/html": [
       "<div>\n",
       "<style scoped>\n",
       "    .dataframe tbody tr th:only-of-type {\n",
       "        vertical-align: middle;\n",
       "    }\n",
       "\n",
       "    .dataframe tbody tr th {\n",
       "        vertical-align: top;\n",
       "    }\n",
       "\n",
       "    .dataframe thead th {\n",
       "        text-align: right;\n",
       "    }\n",
       "</style>\n",
       "<table border=\"1\" class=\"dataframe\">\n",
       "  <thead>\n",
       "    <tr style=\"text-align: right;\">\n",
       "      <th></th>\n",
       "      <th>n</th>\n",
       "      <th>SQ</th>\n",
       "      <th>QM</th>\n",
       "      <th>F</th>\n",
       "    </tr>\n",
       "  </thead>\n",
       "  <tbody>\n",
       "    <tr>\n",
       "      <th>Regressão</th>\n",
       "      <td>1</td>\n",
       "      <td>168.94</td>\n",
       "      <td>168.94</td>\n",
       "      <td>165.13</td>\n",
       "    </tr>\n",
       "    <tr>\n",
       "      <th>Resíduo</th>\n",
       "      <td>7</td>\n",
       "      <td>7.16</td>\n",
       "      <td>1.02</td>\n",
       "      <td>165.13</td>\n",
       "    </tr>\n",
       "    <tr>\n",
       "      <th>Total</th>\n",
       "      <td>8</td>\n",
       "      <td>176.10</td>\n",
       "      <td>22.01</td>\n",
       "      <td>165.13</td>\n",
       "    </tr>\n",
       "  </tbody>\n",
       "</table>\n",
       "</div>"
      ],
      "text/plain": [
       "           n      SQ      QM       F\n",
       "Regressão  1  168.94  168.94  165.13\n",
       "Resíduo    7    7.16    1.02  165.13\n",
       "Total      8  176.10   22.01  165.13"
      ]
     },
     "execution_count": 21,
     "metadata": {},
     "output_type": "execute_result"
    }
   ],
   "source": [
    "ANOVA_regr(table, ['Volume', 'Tempo']).round(2)"
   ]
  },
  {
   "cell_type": "markdown",
   "metadata": {},
   "source": [
    "### c) Qual o valor de $S^2_e$? Este valor é pequeno quando comparado com $S^2$?"
   ]
  },
  {
   "cell_type": "markdown",
   "metadata": {},
   "source": [
    "O valor de $S_e^2$ é $1.02$ ($QMRes$), e o de $S^2$ é $22.01$ ($QMTot$). O valor de $S^2$ é evidente bem maior que o de $S^2_e$, indicando que o provavelmente a descrição do problema ganha mais informações quando considerado o modelo 2."
   ]
  },
  {
   "cell_type": "markdown",
   "metadata": {},
   "source": [
    "### d) Qual o valor de $R^2$? Interprete esse número."
   ]
  },
  {
   "cell_type": "code",
   "execution_count": 22,
   "metadata": {},
   "outputs": [],
   "source": [
    "anova_table = ANOVA_regr(table, ['Volume', 'Tempo']).round(2)\n",
    "SQReg = anova_table[\"SQ\"].loc[\"Regressão\"]\n",
    "SQTot = anova_table[\"SQ\"].loc[\"Total\"]"
   ]
  },
  {
   "cell_type": "code",
   "execution_count": 23,
   "metadata": {},
   "outputs": [
    {
     "data": {
      "text/plain": [
       "0.96"
      ]
     },
     "execution_count": 23,
     "metadata": {},
     "output_type": "execute_result"
    }
   ],
   "source": [
    "R2 = SQReg/SQTot\n",
    "round(R2, 2)"
   ]
  },
  {
   "cell_type": "markdown",
   "metadata": {},
   "source": [
    "Assim, o valor de $R^2$ é $0.96$. Ou seja, $96.00\\%$ da variabilidade total dos dados são explicados através do modelo linear."
   ]
  },
  {
   "cell_type": "markdown",
   "metadata": {},
   "source": [
    "### e) Construa o $IC(\\beta; \\,95\\%)$ e o $IC(\\alpha;\\, 90\\%)$"
   ]
  },
  {
   "cell_type": "markdown",
   "metadata": {},
   "source": [
    "Os intervalos de confiança para $\\alpha$ e $\\beta$ com uma significância de $\\gamma$ são dados por\n",
    "$$IC(\\alpha;(1-\\gamma)100\\%) = \\hat{\\alpha} \\pm t_{\\frac{\\gamma}{2},(n-2)}S_e\\sqrt{\\dfrac{\\sum^n_{i=1}x^2_i}{n\\sum^n_{i=1}(x_i-\\bar{x})^2}}$$\n",
    "e\n",
    "$$IC(\\beta;(1-\\gamma)100\\%) = \\hat{\\beta} \\pm t_{\\frac{\\gamma}{2},(n-2)}S_e\\sqrt{\\dfrac{1}{\\sum^n_{i=1}(x_i-\\bar{x})^2}}$$\n",
    "respectivamente. \n",
    "\n",
    "#### **Para o caso de $\\beta$**:\n",
    "Para um $\\gamma = 0.05$, $n-2 = 7$:"
   ]
  },
  {
   "cell_type": "code",
   "execution_count": 24,
   "metadata": {},
   "outputs": [],
   "source": [
    "t = find_t(student, 1-0.05, 8)\n",
    "Se = anova_table['QM'].loc['Resíduo']"
   ]
  },
  {
   "cell_type": "code",
   "execution_count": 63,
   "metadata": {},
   "outputs": [],
   "source": [
    "def IC_regr(data, args, t, Se, const='beta', x_ext = None):\n",
    "    x = data[args[0]]\n",
    "    y = data[args[1]]\n",
    "    \n",
    "    x_mean = x.mean()\n",
    "    n = len(x)\n",
    "    \n",
    "    alpha_ch, beta_ch = alpha_beta(table, args)\n",
    "    \n",
    "    if const == 'beta':\n",
    "        c = beta_ch\n",
    "        C = t*Se*np.sqrt(1/((x-x_mean)**2).sum())\n",
    "    if const == 'alpha':\n",
    "        c = alpha_ch\n",
    "        x2 = (x**2).sum()\n",
    "        C = t*Se*np.sqrt(x2/(((x-x_mean)**2).sum()*n))\n",
    "    if const == 'IP':\n",
    "        c = alpha_ch + beta_ch*x_ext\n",
    "        xdiff = ((x-x_mean)**2).sum()\n",
    "        C = t*Se*np.sqrt(1+(1/n)+((x_ext-x_mean)**2/xdiff))\n",
    "        return c, [c-C, c+C]\n",
    "    \n",
    "    return c-C, c+C"
   ]
  },
  {
   "cell_type": "code",
   "execution_count": 26,
   "metadata": {},
   "outputs": [
    {
     "data": {
      "text/plain": [
       "(0.4392152634099808, 0.6394014550185037)"
      ]
     },
     "execution_count": 26,
     "metadata": {},
     "output_type": "execute_result"
    }
   ],
   "source": [
    "IC_regr(table, ['Volume', 'Tempo'], t, Se)"
   ]
  },
  {
   "cell_type": "markdown",
   "metadata": {},
   "source": [
    "#### **Para o caso de $\\alpha$**:"
   ]
  },
  {
   "cell_type": "markdown",
   "metadata": {},
   "source": [
    "Para um $\\gamma = 0.1$, $n-2 = 7$:"
   ]
  },
  {
   "cell_type": "code",
   "execution_count": 27,
   "metadata": {},
   "outputs": [],
   "source": [
    "t = find_t(student, 1-0.1, 8)\n",
    "Se = anova_table['QM'].loc['Resíduo']"
   ]
  },
  {
   "cell_type": "code",
   "execution_count": 28,
   "metadata": {},
   "outputs": [
    {
     "data": {
      "text/plain": [
       "(-1.5459217556350686, 2.8708876516030712)"
      ]
     },
     "execution_count": 28,
     "metadata": {},
     "output_type": "execute_result"
    }
   ],
   "source": [
    "IC_regr(table, ['Volume', 'Tempo'], t, Se, const = 'alpha')"
   ]
  },
  {
   "cell_type": "markdown",
   "metadata": {},
   "source": [
    "### f) Usando a estatística $F$, teste as hipóteses $H_0:\\, \\beta = 0$ versus $H_1:\\, \\beta\\ne 0$ e interprete o resultado obtido. Você acha que conhecer o volume do pacote ajuda a prever o tempo de empacotamento?"
   ]
  },
  {
   "cell_type": "markdown",
   "metadata": {},
   "source": [
    "O estimador para $\\beta$ é\n",
    "$$T = \\dfrac{\\hat{\\beta}-\\beta}{\\sqrt{S_e^2\\frac{1}{\\sum^n_{i=1}(x_i-\\bar{x})^2}}} \\tilde{} t_{n-2}$$\n",
    "onde, sobre $H_0$, a estatística observada é\n",
    "$$t_0 = \\dfrac{\\hat{\\beta}}{\\sqrt{S_e^2\\frac{1}{\\sum^n_{i=1}(x_i-\\bar{x})^2}}} \\tilde{} t_{n-2}$$"
   ]
  },
  {
   "cell_type": "markdown",
   "metadata": {},
   "source": [
    "A região crítica pode ser escrita pela distribuição $F$, onde\n",
    "$$RC = \\{F\\in\\mathbb{R} | F>f_c\\}$$\n",
    "sendo $f_c = F_{1, n-2}$, que pela tabela, da distribuição $F$, com uma significância de $5.00\\%$, $f_c=F_{1, 7} = 5.59$, ou seja, $RC = \\{F\\in\\mathbb{R} | F>5.59\\}$. "
   ]
  },
  {
   "cell_type": "markdown",
   "metadata": {},
   "source": [
    "Como o valor de $F_{obs}$ foi de $165.13$, então $H_0$ é rejeitado, ou seja, $\\beta\\ne0$."
   ]
  },
  {
   "cell_type": "markdown",
   "metadata": {},
   "source": [
    "### g) Qual o tempo médio esperado para empacotar um volume com $30\\,dm^3$? Ache a estimativa pontual e o intervalo de confiança correspondente."
   ]
  },
  {
   "cell_type": "markdown",
   "metadata": {},
   "source": [
    "Como se trata de uma medida exterior ao conjunto utilizado para se fazer a regressão, o intervalo a ser usado é o **intervalo de predição**, que é dado pela relação\n",
    "$$IP(y_f;\\, (1-\\gamma)100\\%) = \\hat{y}_f \\pm t_{\\frac{\\gamma}{2},(n-2)}S_e\\sqrt{1+ \\dfrac{1}{n} + \\dfrac{(x_i-\\bar{x})^2}{\\sum^n_{i=1}(x_i-\\bar{x})^2}}$$"
   ]
  },
  {
   "cell_type": "code",
   "execution_count": 29,
   "metadata": {},
   "outputs": [
    {
     "data": {
      "text/plain": [
       "16.84"
      ]
     },
     "execution_count": 29,
     "metadata": {},
     "output_type": "execute_result"
    }
   ],
   "source": [
    "y_f = alpha_ch+beta_ch*30\n",
    "round(y_f, 2)"
   ]
  },
  {
   "cell_type": "code",
   "execution_count": 30,
   "metadata": {},
   "outputs": [],
   "source": [
    "t = find_t(student, 1-0.05, 8)\n",
    "Se = anova_table['QM'].loc['Resíduo']"
   ]
  },
  {
   "cell_type": "code",
   "execution_count": 31,
   "metadata": {},
   "outputs": [
    {
     "data": {
      "text/plain": [
       "(14.272660613329665, 19.410806835492878)"
      ]
     },
     "execution_count": 31,
     "metadata": {},
     "output_type": "execute_result"
    }
   ],
   "source": [
    "IC_regr(table, ['Volume', 'Tempo'], t, Se, const = 'IP', x_ext = 30)"
   ]
  },
  {
   "cell_type": "markdown",
   "metadata": {},
   "source": [
    "## Ex 5."
   ]
  },
  {
   "cell_type": "markdown",
   "metadata": {},
   "source": [
    "Escrevendo os dados apresentados no enunciado:"
   ]
  },
  {
   "cell_type": "code",
   "execution_count": 33,
   "metadata": {},
   "outputs": [
    {
     "data": {
      "text/html": [
       "<div>\n",
       "<style scoped>\n",
       "    .dataframe tbody tr th:only-of-type {\n",
       "        vertical-align: middle;\n",
       "    }\n",
       "\n",
       "    .dataframe tbody tr th {\n",
       "        vertical-align: top;\n",
       "    }\n",
       "\n",
       "    .dataframe thead th {\n",
       "        text-align: right;\n",
       "    }\n",
       "</style>\n",
       "<table border=\"1\" class=\"dataframe\">\n",
       "  <thead>\n",
       "    <tr style=\"text-align: right;\">\n",
       "      <th></th>\n",
       "      <th>Meses</th>\n",
       "      <th>Erros</th>\n",
       "    </tr>\n",
       "  </thead>\n",
       "  <tbody>\n",
       "    <tr>\n",
       "      <th>0</th>\n",
       "      <td>1</td>\n",
       "      <td>30</td>\n",
       "    </tr>\n",
       "    <tr>\n",
       "      <th>1</th>\n",
       "      <td>2</td>\n",
       "      <td>28</td>\n",
       "    </tr>\n",
       "    <tr>\n",
       "      <th>2</th>\n",
       "      <td>3</td>\n",
       "      <td>24</td>\n",
       "    </tr>\n",
       "    <tr>\n",
       "      <th>3</th>\n",
       "      <td>4</td>\n",
       "      <td>20</td>\n",
       "    </tr>\n",
       "    <tr>\n",
       "      <th>4</th>\n",
       "      <td>5</td>\n",
       "      <td>18</td>\n",
       "    </tr>\n",
       "    <tr>\n",
       "      <th>5</th>\n",
       "      <td>6</td>\n",
       "      <td>14</td>\n",
       "    </tr>\n",
       "    <tr>\n",
       "      <th>6</th>\n",
       "      <td>7</td>\n",
       "      <td>13</td>\n",
       "    </tr>\n",
       "    <tr>\n",
       "      <th>7</th>\n",
       "      <td>8</td>\n",
       "      <td>10</td>\n",
       "    </tr>\n",
       "    <tr>\n",
       "      <th>8</th>\n",
       "      <td>9</td>\n",
       "      <td>7</td>\n",
       "    </tr>\n",
       "    <tr>\n",
       "      <th>9</th>\n",
       "      <td>10</td>\n",
       "      <td>6</td>\n",
       "    </tr>\n",
       "  </tbody>\n",
       "</table>\n",
       "</div>"
      ],
      "text/plain": [
       "   Meses  Erros\n",
       "0      1     30\n",
       "1      2     28\n",
       "2      3     24\n",
       "3      4     20\n",
       "4      5     18\n",
       "5      6     14\n",
       "6      7     13\n",
       "7      8     10\n",
       "8      9      7\n",
       "9     10      6"
      ]
     },
     "execution_count": 33,
     "metadata": {},
     "output_type": "execute_result"
    }
   ],
   "source": [
    "table = pd.DataFrame({'Meses': [1, 2, 3, 4, 5, 6, 7, 8, 9, 10],\n",
    "                     'Erros': [30, 28, 24, 20, 18, 14, 13, 10, 7, 6]})\n",
    "table"
   ]
  },
  {
   "cell_type": "markdown",
   "metadata": {},
   "source": [
    "### a) Represente graficamente esse conjunto de dados."
   ]
  },
  {
   "cell_type": "code",
   "execution_count": 34,
   "metadata": {},
   "outputs": [
    {
     "data": {
      "text/plain": [
       "<matplotlib.axes._subplots.AxesSubplot at 0x7fe7803824e0>"
      ]
     },
     "execution_count": 34,
     "metadata": {},
     "output_type": "execute_result"
    },
    {
     "data": {
      "image/png": "[encoded data removed]",
      "text/plain": [
       "<Figure size 432x288 with 1 Axes>"
      ]
     },
     "metadata": {
      "needs_background": "light"
     },
     "output_type": "display_data"
    }
   ],
   "source": [
    "sns.scatterplot(table['Meses'], table['Erros'])"
   ]
  },
  {
   "cell_type": "markdown",
   "metadata": {},
   "source": [
    "### b) Assumindo que um modelo de regressão linear é adequado, determine os coeficientes da equação pelo método dos mínimos quadrados"
   ]
  },
  {
   "cell_type": "code",
   "execution_count": 35,
   "metadata": {},
   "outputs": [
    {
     "data": {
      "text/plain": [
       "(32.27, -2.78)"
      ]
     },
     "execution_count": 35,
     "metadata": {},
     "output_type": "execute_result"
    }
   ],
   "source": [
    "alpha_ch, beta_ch = alpha_beta(table, ['Meses', 'Erros'])\n",
    "round(alpha_ch, 2), round(beta_ch, 2)"
   ]
  },
  {
   "cell_type": "markdown",
   "metadata": {},
   "source": [
    "### c) Represente a reta de regressão no gráfico feito anteriormente."
   ]
  },
  {
   "cell_type": "code",
   "execution_count": 36,
   "metadata": {},
   "outputs": [],
   "source": [
    "y_ch = alpha_ch + beta_ch*table['Meses']"
   ]
  },
  {
   "cell_type": "code",
   "execution_count": 37,
   "metadata": {},
   "outputs": [
    {
     "data": {
      "text/plain": [
       "<matplotlib.axes._subplots.AxesSubplot at 0x7fe77ffd8198>"
      ]
     },
     "execution_count": 37,
     "metadata": {},
     "output_type": "execute_result"
    },
    {
     "data": {
      "image/png": "[encoded data removed]",
      "text/plain": [
       "<Figure size 432x288 with 1 Axes>"
      ]
     },
     "metadata": {
      "needs_background": "light"
     },
     "output_type": "display_data"
    }
   ],
   "source": [
    "sns.scatterplot(table['Meses'], table['Erros'])\n",
    "sns.lineplot(table['Meses'], y_ch)"
   ]
  },
  {
   "cell_type": "markdown",
   "metadata": {},
   "source": [
    "### d) Qual o número esperado de erros para um digitador com 5 meses de experiência?"
   ]
  },
  {
   "cell_type": "code",
   "execution_count": 40,
   "metadata": {},
   "outputs": [
    {
     "data": {
      "text/plain": [
       "18.39"
      ]
     },
     "execution_count": 40,
     "metadata": {},
     "output_type": "execute_result"
    }
   ],
   "source": [
    "y_f = alpha_ch + beta_ch*5\n",
    "round(y_f, 2)"
   ]
  },
  {
   "cell_type": "markdown",
   "metadata": {},
   "source": [
    "## Ex. 7"
   ]
  },
  {
   "cell_type": "markdown",
   "metadata": {},
   "source": [
    "Do enunciado, a tabela ANOVA fornecida é dada por:\n",
    "\n",
    "| **Fonte de variação (FV)** | **Graus de liberdade (GL)** | **Soma quadrática (SQ)** | **Quadrado médio (QM)** | **F** |\n",
    "| :- | :-: | :-: | :-: | :-: |\n",
    "| Regressão | - | $1209$ | $-$ | $-$ |\n",
    "| Resíduo | - | $1209$ | $-$ |  |\n",
    "| Total | $11$ | $1766$ | $-$ |  |"
   ]
  },
  {
   "cell_type": "markdown",
   "metadata": {},
   "source": [
    "Assim:\n",
    "\n",
    "- $GL(Total) = n-1 = 11$, e portanto $n = 12$\n",
    "- $QMReg = SQReg = 1209$\n",
    "- $QMRes = \\dfrac{SQRes}{n-2} = 120.9$\n",
    "- $QMTot = \\dfrac{SQTot}{n-1} = 160.55$\n",
    "- $F_{obs} = \\dfrac{QMReg}{QMRes} = 10$"
   ]
  },
  {
   "cell_type": "code",
   "execution_count": 42,
   "metadata": {},
   "outputs": [
    {
     "data": {
      "text/plain": [
       "120.9"
      ]
     },
     "execution_count": 42,
     "metadata": {},
     "output_type": "execute_result"
    }
   ],
   "source": [
    "QMRes = 1209/(12-2)\n",
    "QMRes"
   ]
  },
  {
   "cell_type": "code",
   "execution_count": 43,
   "metadata": {},
   "outputs": [
    {
     "data": {
      "text/plain": [
       "160.54545454545453"
      ]
     },
     "execution_count": 43,
     "metadata": {},
     "output_type": "execute_result"
    }
   ],
   "source": [
    "QMTot = 1766/(12-1)\n",
    "QMTot"
   ]
  },
  {
   "cell_type": "code",
   "execution_count": 44,
   "metadata": {},
   "outputs": [
    {
     "data": {
      "text/plain": [
       "10.0"
      ]
     },
     "execution_count": 44,
     "metadata": {},
     "output_type": "execute_result"
    }
   ],
   "source": [
    "F =  1209/120.9\n",
    "F"
   ]
  },
  {
   "cell_type": "markdown",
   "metadata": {},
   "source": [
    "Logo, a tabela ANOVA preenchida fica:"
   ]
  },
  {
   "cell_type": "markdown",
   "metadata": {},
   "source": [
    "| **Fonte de variação (FV)** | **Graus de liberdade (GL)** | **Soma quadrática (SQ)** | **Quadrado médio (QM)** | **F** |\n",
    "| :- | :-: | :-: | :-: | :-: |\n",
    "| Regressão | $1$ | $1209$ | $1209$ | $10$ |\n",
    "| Resíduo | $10$ | $1209$ | $120.9$ |  |\n",
    "| Total | $11$ | $1766$ | $160.55$ |  |"
   ]
  },
  {
   "cell_type": "markdown",
   "metadata": {},
   "source": [
    "## Ex. 9"
   ]
  },
  {
   "cell_type": "markdown",
   "metadata": {},
   "source": [
    "Inserindo os valores apresentados no enunciado:"
   ]
  },
  {
   "cell_type": "code",
   "execution_count": 46,
   "metadata": {},
   "outputs": [
    {
     "data": {
      "text/html": [
       "<div>\n",
       "<style scoped>\n",
       "    .dataframe tbody tr th:only-of-type {\n",
       "        vertical-align: middle;\n",
       "    }\n",
       "\n",
       "    .dataframe tbody tr th {\n",
       "        vertical-align: top;\n",
       "    }\n",
       "\n",
       "    .dataframe thead th {\n",
       "        text-align: right;\n",
       "    }\n",
       "</style>\n",
       "<table border=\"1\" class=\"dataframe\">\n",
       "  <thead>\n",
       "    <tr style=\"text-align: right;\">\n",
       "      <th></th>\n",
       "      <th>Idade</th>\n",
       "      <th>Custo</th>\n",
       "    </tr>\n",
       "  </thead>\n",
       "  <tbody>\n",
       "    <tr>\n",
       "      <th>0</th>\n",
       "      <td>0.5</td>\n",
       "      <td>163</td>\n",
       "    </tr>\n",
       "    <tr>\n",
       "      <th>1</th>\n",
       "      <td>0.5</td>\n",
       "      <td>182</td>\n",
       "    </tr>\n",
       "    <tr>\n",
       "      <th>2</th>\n",
       "      <td>1.0</td>\n",
       "      <td>978</td>\n",
       "    </tr>\n",
       "    <tr>\n",
       "      <th>3</th>\n",
       "      <td>1.0</td>\n",
       "      <td>466</td>\n",
       "    </tr>\n",
       "    <tr>\n",
       "      <th>4</th>\n",
       "      <td>1.0</td>\n",
       "      <td>549</td>\n",
       "    </tr>\n",
       "  </tbody>\n",
       "</table>\n",
       "</div>"
      ],
      "text/plain": [
       "   Idade  Custo\n",
       "0    0.5    163\n",
       "1    0.5    182\n",
       "2    1.0    978\n",
       "3    1.0    466\n",
       "4    1.0    549"
      ]
     },
     "execution_count": 46,
     "metadata": {},
     "output_type": "execute_result"
    }
   ],
   "source": [
    "X = [0.5, 0.5, 1.0, 1.0, 1.0, 4.0, 4.0, 4.0, 4.5, 4.5, 4.5, 5.0, 5.0, 5.0, 5.5, 6.0, 6.0]\n",
    "Y = [163, 182, 978, 466, 549, 495, 723, 681, 619, 1049, 1033, 890, 1522, 1194, 987, 764, 1373]\n",
    "\n",
    "table = pd.DataFrame({'Idade': X,\n",
    "                     'Custo': Y})\n",
    "table.head()"
   ]
  },
  {
   "cell_type": "markdown",
   "metadata": {},
   "source": [
    "### a) Ajuste o modelo $\\hat{y}_i= \\beta_0 + \\beta_1\\hat{x}_i$ e teste a hipótese de interesse para o nível $\\alpha = 0.10$."
   ]
  },
  {
   "cell_type": "code",
   "execution_count": 47,
   "metadata": {},
   "outputs": [
    {
     "data": {
      "text/plain": [
       "(323.6222737819027, 131.7164733178654)"
      ]
     },
     "execution_count": 47,
     "metadata": {},
     "output_type": "execute_result"
    }
   ],
   "source": [
    "beta_0, beta_1 = alpha_beta(table, ['Idade', 'Custo'])\n",
    "beta_0, beta_1"
   ]
  },
  {
   "cell_type": "code",
   "execution_count": 48,
   "metadata": {},
   "outputs": [
    {
     "data": {
      "text/plain": [
       "<matplotlib.axes._subplots.AxesSubplot at 0x7fe77fd81e10>"
      ]
     },
     "execution_count": 48,
     "metadata": {},
     "output_type": "execute_result"
    },
    {
     "data": {
      "image/png": "[encoded data removed]",
      "text/plain": [
       "<Figure size 432x288 with 1 Axes>"
      ]
     },
     "metadata": {
      "needs_background": "light"
     },
     "output_type": "display_data"
    }
   ],
   "source": [
    "sns.scatterplot(table['Idade'], table['Custo'])\n",
    "sns.lineplot(table['Idade'], beta_0+beta_1*table['Idade'])"
   ]
  },
  {
   "cell_type": "markdown",
   "metadata": {},
   "source": [
    "Testando as hipóteses $H_0:\\,\\beta_1 = 0$ e $H_1:\\,\\beta_1\\ne0$, é possível cosntruir a região crítica dada por $RC = \\{T\\in\\mathbb{R} | T<-t_c$ ou $T>t_c\\}$, onde $t_c = t_{\\frac{\\alpha}{2}, n-2}$. Para $n-2=15$ e $\\alpha=0.1$:"
   ]
  },
  {
   "cell_type": "code",
   "execution_count": 52,
   "metadata": {},
   "outputs": [
    {
     "data": {
      "text/plain": [
       "1.74"
      ]
     },
     "execution_count": 52,
     "metadata": {},
     "output_type": "execute_result"
    }
   ],
   "source": [
    "n = table.shape[0]\n",
    "\n",
    "t = find_t(student, 1-0.1, 18)\n",
    "t"
   ]
  },
  {
   "cell_type": "markdown",
   "metadata": {},
   "source": [
    "Logo, $RC = \\{T\\in\\mathbb{R} | T<-1.74$ ou $T>1.74\\}$. A estatística a ser calculada, sob $H_0$, é dada por \n",
    "$$t_0 = \\dfrac{\\hat{\\beta}}{\\sqrt{S_e^2\\frac{1}{\\sum^n_{i=1}(x_i-\\bar{x})^2}}}$$\n",
    "onde, para obter $S_e^2$, se faz necessário calcular a tabela ANOVA."
   ]
  },
  {
   "cell_type": "code",
   "execution_count": 55,
   "metadata": {},
   "outputs": [
    {
     "data": {
      "text/html": [
       "<div>\n",
       "<style scoped>\n",
       "    .dataframe tbody tr th:only-of-type {\n",
       "        vertical-align: middle;\n",
       "    }\n",
       "\n",
       "    .dataframe tbody tr th {\n",
       "        vertical-align: top;\n",
       "    }\n",
       "\n",
       "    .dataframe thead th {\n",
       "        text-align: right;\n",
       "    }\n",
       "</style>\n",
       "<table border=\"1\" class=\"dataframe\">\n",
       "  <thead>\n",
       "    <tr style=\"text-align: right;\">\n",
       "      <th></th>\n",
       "      <th>n</th>\n",
       "      <th>SQ</th>\n",
       "      <th>QM</th>\n",
       "      <th>F</th>\n",
       "    </tr>\n",
       "  </thead>\n",
       "  <tbody>\n",
       "    <tr>\n",
       "      <th>Regressão</th>\n",
       "      <td>1</td>\n",
       "      <td>1099634.98</td>\n",
       "      <td>1099634.98</td>\n",
       "      <td>13.68</td>\n",
       "    </tr>\n",
       "    <tr>\n",
       "      <th>Resíduo</th>\n",
       "      <td>15</td>\n",
       "      <td>1205407.02</td>\n",
       "      <td>80360.47</td>\n",
       "      <td>13.68</td>\n",
       "    </tr>\n",
       "    <tr>\n",
       "      <th>Total</th>\n",
       "      <td>16</td>\n",
       "      <td>2305042.00</td>\n",
       "      <td>144065.12</td>\n",
       "      <td>13.68</td>\n",
       "    </tr>\n",
       "  </tbody>\n",
       "</table>\n",
       "</div>"
      ],
      "text/plain": [
       "            n          SQ          QM      F\n",
       "Regressão   1  1099634.98  1099634.98  13.68\n",
       "Resíduo    15  1205407.02    80360.47  13.68\n",
       "Total      16  2305042.00   144065.12  13.68"
      ]
     },
     "execution_count": 55,
     "metadata": {},
     "output_type": "execute_result"
    }
   ],
   "source": [
    "anova_table = ANOVA_regr(table, ['Idade', 'Custo'])\n",
    "anova_table.round(2)"
   ]
  },
  {
   "cell_type": "code",
   "execution_count": 69,
   "metadata": {},
   "outputs": [
    {
     "data": {
      "text/plain": [
       "3.7"
      ]
     },
     "execution_count": 69,
     "metadata": {},
     "output_type": "execute_result"
    }
   ],
   "source": [
    "Se2 = anova_table['QM'].loc['Resíduo']\n",
    "t_0 = (beta_1)/(np.sqrt(Se2*(1/((table['Idade']-table['Idade'].mean())**2).sum())))\n",
    "round(t_0, 2)"
   ]
  },
  {
   "cell_type": "markdown",
   "metadata": {},
   "source": [
    "Logo, como $t_0 \\in RC$, então $H_0$ é rejeitado, ou seja, $\\beta\\ne0$."
   ]
  },
  {
   "cell_type": "markdown",
   "metadata": {},
   "source": [
    "### b) Determine uma “previsão” para o custo de manutenção para tratores com 5 anos de idade e obtenha um intervalo de confiança com $90\\%$ de confiança."
   ]
  },
  {
   "cell_type": "code",
   "execution_count": 64,
   "metadata": {},
   "outputs": [
    {
     "data": {
      "text/plain": [
       "(982.2046403712297, [467.7754027036103, 1496.6338780388492])"
      ]
     },
     "execution_count": 64,
     "metadata": {},
     "output_type": "execute_result"
    }
   ],
   "source": [
    "IC_regr(table, ['Idade', 'Custo'], t, np.sqrt(Se2), const='IP', x_ext = 5)"
   ]
  },
  {
   "cell_type": "markdown",
   "metadata": {},
   "source": [
    "Logo, a previsão de custo é de aproximadamente $982.20$, sendo o intervalo de predição\n",
    "$$IP(y_f, 90\\%) = (467.78, 1496.63)$$"
   ]
  },
  {
   "cell_type": "markdown",
   "metadata": {},
   "source": [
    "### c) Teste as hipóteses $H_0:\\, \\beta_0 = 300$ versus $H_1 :\\, \\beta_0 > 300$, para o nível $\\alpha = 0.05$."
   ]
  },
  {
   "cell_type": "code",
   "execution_count": 68,
   "metadata": {},
   "outputs": [
    {
     "data": {
      "text/plain": [
       "1.74"
      ]
     },
     "execution_count": 68,
     "metadata": {},
     "output_type": "execute_result"
    }
   ],
   "source": [
    "t = find_t(student, 1-0.05, 18, interval = 'unilateral')\n",
    "t"
   ]
  },
  {
   "cell_type": "markdown",
   "metadata": {},
   "source": [
    "Logo, aqui a RC será $RC = \\{T\\in\\mathbb{R} | T>1.74\\}$"
   ]
  },
  {
   "cell_type": "code",
   "execution_count": 67,
   "metadata": {},
   "outputs": [
    {
     "data": {
      "text/plain": [
       "0.1607625272856998"
      ]
     },
     "execution_count": 67,
     "metadata": {},
     "output_type": "execute_result"
    }
   ],
   "source": [
    "x2 = (table['Idade']**2).sum()\n",
    "t_0 = (beta_0-300)/(np.sqrt(Se2*(x2/(((table['Idade']-table['Idade'].mean())**2).sum()*n))))\n",
    "t_0"
   ]
  },
  {
   "cell_type": "markdown",
   "metadata": {},
   "source": [
    "Logo, $t_0\\notin RC$, e portanto a hipótese nula não é rejeitada, ou seja, $\\beta_0 = 300$."
   ]
  },
  {
   "cell_type": "markdown",
   "metadata": {},
   "source": [
    "## Ex. 11"
   ]
  },
  {
   "cell_type": "code",
   "execution_count": null,
   "metadata": {},
   "outputs": [],
   "source": []
  }
 ],
 "metadata": {
  "kernelspec": {
   "display_name": "Python 3",
   "language": "python",
   "name": "python3"
  },
  "language_info": {
   "codemirror_mode": {
    "name": "ipython",
    "version": 3
   },
   "file_extension": ".py",
   "mimetype": "text/x-python",
   "name": "python",
   "nbconvert_exporter": "python",
   "pygments_lexer": "ipython3",
   "version": "3.6.9"
  }
 },
 "nbformat": 4,
 "nbformat_minor": 4
}
