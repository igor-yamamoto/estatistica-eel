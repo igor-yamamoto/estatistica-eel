{
 "cells": [
  {
   "cell_type": "markdown",
   "metadata": {},
   "source": [
    "# Estatística - P4 - Lista 9"
   ]
  },
  {
   "cell_type": "markdown",
   "metadata": {},
   "source": [
    "## Ex. 2."
   ]
  },
  {
   "cell_type": "markdown",
   "metadata": {},
   "source": [
    "Tabela fornecida no enunciado:\n",
    "\n",
    "| Escolaridade | $n_i$ | $\\sum^{n_i}_{j=1}y_{i, j}$ | $\\sum^{n_i}_{j=1}y^2_{i, j}$ |\n",
    "| - | - | - | - |\n",
    "| Fundamental | $50$ | $111.50$ | $259.93$ |\n",
    "| Médio | $20$ | $71.00$ | $258.89$ |"
   ]
  },
  {
   "cell_type": "markdown",
   "metadata": {},
   "source": [
    "A tabela ANOVA é dada por:\n",
    "\n",
    "| **Fonte de variação (FV)** | **Graus de liberdade (GL)** | **Soma quadrática (SQ)** | **Quadrado médio (QM)** | **F** |\n",
    "| :- | :-: | :-: | :-: | :-: |\n",
    "| Entre | $k-1$ | $SQEnt = \\sum_{i=1}^Kn_i(\\bar{y}_i-\\bar{y})^2 = \\left(\\sum_{i=1}^Kn_i\\bar{y}_i^2\\right)-n\\bar{y}^2$ | $QMEnt = \\dfrac{SQReg}{k-1}$ | $F_{obs} = \\dfrac{QMEnt}{QMDen}$ |\n",
    "| Dentro | $n-k$ | $SQDen = \\sum_{i=1}^K\\sum_{j=1}^{n_i}(y_{i, j}-\\bar{y}_i)^2 = \\left(\\sum_{i=1}^K\\sum_{j=1}^{n_i}y_{i, j}^2\\right)-\\sum^K_{i=1}n_i\\bar{y}_i^2$ | $QMDen = \\dfrac{SQDen}{n-k}$ |  |\n",
    "| Total | $n-1$ | $SQTot = \\sum_{i=1}^K\\sum_{j=1}^{n_i}(y_{i, j}-\\bar{y})^2 = \\left(\\sum_{i=1}^K\\sum_{j=1}^{n_i}y_{i, j}^2\\right)-n\\bar{y}^2$ | $QMTot = \\dfrac{SQTot}{n-1}$ |  |"
   ]
  },
  {
   "cell_type": "markdown",
   "metadata": {},
   "source": [
    "Considerando que $\\bar{y} = \\dfrac{\\sum^K_{i = 1}n_i\\bar{y}_i}{n}$, e $\\bar{y}_i = \\dfrac{\\sum^{n_i}_{j=1}y_{i, j}}{n_i}$, então:\n",
    "\n",
    "$$PT1 = \\left(\\sum_{i=1}^Kn_i\\bar{y}_i^2\\right) = \\left(\\sum_{i=1}^Kn_i\\left(\\sum_{j=1}^{n_i}\\dfrac{y_{i, j}}{n_i}\\right)^2\\right)$$\n",
    "\n",
    "$$PT2 = \\sum^K_{i=1}\\sum^{n_i}_{j=1}y_{i, j}^2$$\n",
    "\n",
    "$$PT3 = n\\bar{y}^2 = \\dfrac{1}{n}\\left(\\sum_{i=1}^Kn_i\\bar{y}_i\\right)^2$$\n",
    "\n",
    "de forma então que \n",
    "\n",
    "$$SQEn = PT1-PT3$$\n",
    "$$SQDen = PT2-PT1$$\n",
    "$$SQTot = PT2-PT3$$"
   ]
  },
  {
   "cell_type": "code",
   "execution_count": 1,
   "metadata": {},
   "outputs": [],
   "source": [
    "import pandas as pd\n",
    "import numpy as np"
   ]
  },
  {
   "cell_type": "code",
   "execution_count": 2,
   "metadata": {},
   "outputs": [
    {
     "data": {
      "text/html": [
       "<div>\n",
       "<style scoped>\n",
       "    .dataframe tbody tr th:only-of-type {\n",
       "        vertical-align: middle;\n",
       "    }\n",
       "\n",
       "    .dataframe tbody tr th {\n",
       "        vertical-align: top;\n",
       "    }\n",
       "\n",
       "    .dataframe thead th {\n",
       "        text-align: right;\n",
       "    }\n",
       "</style>\n",
       "<table border=\"1\" class=\"dataframe\">\n",
       "  <thead>\n",
       "    <tr style=\"text-align: right;\">\n",
       "      <th></th>\n",
       "      <th>n</th>\n",
       "      <th>y</th>\n",
       "      <th>y2</th>\n",
       "    </tr>\n",
       "  </thead>\n",
       "  <tbody>\n",
       "    <tr>\n",
       "      <th>Fundamental</th>\n",
       "      <td>50</td>\n",
       "      <td>111.5</td>\n",
       "      <td>259.93</td>\n",
       "    </tr>\n",
       "    <tr>\n",
       "      <th>Médio</th>\n",
       "      <td>20</td>\n",
       "      <td>71.0</td>\n",
       "      <td>258.89</td>\n",
       "    </tr>\n",
       "  </tbody>\n",
       "</table>\n",
       "</div>"
      ],
      "text/plain": [
       "              n      y      y2\n",
       "Fundamental  50  111.5  259.93\n",
       "Médio        20   71.0  258.89"
      ]
     },
     "execution_count": 2,
     "metadata": {},
     "output_type": "execute_result"
    }
   ],
   "source": [
    "table = pd.DataFrame({'n': [50, 20], \n",
    "                     'y': [111.50, 71.00],\n",
    "                     'y2': [259.93, 258.89]},\n",
    "                    index = ['Fundamental', 'Médio']\n",
    "                     )\n",
    "table"
   ]
  },
  {
   "cell_type": "code",
   "execution_count": 3,
   "metadata": {},
   "outputs": [],
   "source": [
    "ni = table['n']\n",
    "n = ni.sum()\n",
    "k = table.shape[0]\n",
    "\n",
    "yi_mean = table['y']/table['n']\n",
    "y_mean = (table['n']*yi_mean).sum()/n\n",
    "\n",
    "yi2 = table['y2']"
   ]
  },
  {
   "cell_type": "code",
   "execution_count": 4,
   "metadata": {},
   "outputs": [],
   "source": [
    "PT1 = (ni*yi_mean**2).sum()\n",
    "PT2 = yi2.sum()\n",
    "PT3 = n*y_mean**2"
   ]
  },
  {
   "cell_type": "code",
   "execution_count": 5,
   "metadata": {},
   "outputs": [],
   "source": [
    "SQEnt = PT1-PT3\n",
    "SQDen = PT2-PT1\n",
    "SQTot = PT2-PT3\n",
    "\n",
    "QMEnt = SQEnt/(k-1)\n",
    "QMDen = SQDen/(n-k)\n",
    "QMTot = SQTot/(n-1)\n",
    "\n",
    "F = QMEnt/QMDen"
   ]
  },
  {
   "cell_type": "code",
   "execution_count": 6,
   "metadata": {},
   "outputs": [
    {
     "data": {
      "text/html": [
       "<div>\n",
       "<style scoped>\n",
       "    .dataframe tbody tr th:only-of-type {\n",
       "        vertical-align: middle;\n",
       "    }\n",
       "\n",
       "    .dataframe tbody tr th {\n",
       "        vertical-align: top;\n",
       "    }\n",
       "\n",
       "    .dataframe thead th {\n",
       "        text-align: right;\n",
       "    }\n",
       "</style>\n",
       "<table border=\"1\" class=\"dataframe\">\n",
       "  <thead>\n",
       "    <tr style=\"text-align: right;\">\n",
       "      <th></th>\n",
       "      <th>SQ</th>\n",
       "      <th>QM</th>\n",
       "      <th>Fobs</th>\n",
       "    </tr>\n",
       "  </thead>\n",
       "  <tbody>\n",
       "    <tr>\n",
       "      <th>Entre</th>\n",
       "      <td>24.891429</td>\n",
       "      <td>24.891429</td>\n",
       "      <td>93.385773</td>\n",
       "    </tr>\n",
       "    <tr>\n",
       "      <th>Dentro</th>\n",
       "      <td>18.125000</td>\n",
       "      <td>0.266544</td>\n",
       "      <td>93.385773</td>\n",
       "    </tr>\n",
       "    <tr>\n",
       "      <th>Total</th>\n",
       "      <td>43.016429</td>\n",
       "      <td>0.623427</td>\n",
       "      <td>93.385773</td>\n",
       "    </tr>\n",
       "  </tbody>\n",
       "</table>\n",
       "</div>"
      ],
      "text/plain": [
       "               SQ         QM       Fobs\n",
       "Entre   24.891429  24.891429  93.385773\n",
       "Dentro  18.125000   0.266544  93.385773\n",
       "Total   43.016429   0.623427  93.385773"
      ]
     },
     "execution_count": 6,
     "metadata": {},
     "output_type": "execute_result"
    }
   ],
   "source": [
    "ANOVA = pd.DataFrame({'SQ': [SQEnt, SQDen, SQTot],\n",
    "                     'QM': [QMEnt, QMDen, QMTot],\n",
    "                     'Fobs': [F, F, F]},\n",
    "                    index = ['Entre', 'Dentro', 'Total'])\n",
    "ANOVA"
   ]
  },
  {
   "cell_type": "code",
   "execution_count": 7,
   "metadata": {},
   "outputs": [
    {
     "data": {
      "text/plain": [
       "57.86"
      ]
     },
     "execution_count": 7,
     "metadata": {},
     "output_type": "execute_result"
    }
   ],
   "source": [
    "R2 = ANOVA['SQ'].loc['Entre']/ANOVA['SQ'].loc['Total']\n",
    "round(R2*100, 2)"
   ]
  },
  {
   "cell_type": "markdown",
   "metadata": {},
   "source": [
    "É possível notar que, assim, $57.86\\%$ dos dados são explicados através do modelo 2 ($y_{i, j} = \\mu_i + e_{i, j}$), o que não é um ganho consideravelmente grande."
   ]
  },
  {
   "cell_type": "markdown",
   "metadata": {},
   "source": [
    "## Ex. 4"
   ]
  },
  {
   "cell_type": "markdown",
   "metadata": {},
   "source": [
    "Tabela fornecida no enunciado:"
   ]
  },
  {
   "cell_type": "code",
   "execution_count": 8,
   "metadata": {},
   "outputs": [
    {
     "data": {
      "text/html": [
       "<div>\n",
       "<style scoped>\n",
       "    .dataframe tbody tr th:only-of-type {\n",
       "        vertical-align: middle;\n",
       "    }\n",
       "\n",
       "    .dataframe tbody tr th {\n",
       "        vertical-align: top;\n",
       "    }\n",
       "\n",
       "    .dataframe thead th {\n",
       "        text-align: right;\n",
       "    }\n",
       "</style>\n",
       "<table border=\"1\" class=\"dataframe\">\n",
       "  <thead>\n",
       "    <tr style=\"text-align: right;\">\n",
       "      <th></th>\n",
       "      <th>A</th>\n",
       "      <th>B</th>\n",
       "    </tr>\n",
       "  </thead>\n",
       "  <tbody>\n",
       "    <tr>\n",
       "      <th>0</th>\n",
       "      <td>85</td>\n",
       "      <td>91</td>\n",
       "    </tr>\n",
       "    <tr>\n",
       "      <th>1</th>\n",
       "      <td>87</td>\n",
       "      <td>91</td>\n",
       "    </tr>\n",
       "    <tr>\n",
       "      <th>2</th>\n",
       "      <td>92</td>\n",
       "      <td>92</td>\n",
       "    </tr>\n",
       "    <tr>\n",
       "      <th>3</th>\n",
       "      <td>80</td>\n",
       "      <td>86</td>\n",
       "    </tr>\n",
       "    <tr>\n",
       "      <th>4</th>\n",
       "      <td>84</td>\n",
       "      <td>90</td>\n",
       "    </tr>\n",
       "  </tbody>\n",
       "</table>\n",
       "</div>"
      ],
      "text/plain": [
       "    A   B\n",
       "0  85  91\n",
       "1  87  91\n",
       "2  92  92\n",
       "3  80  86\n",
       "4  84  90"
      ]
     },
     "execution_count": 8,
     "metadata": {},
     "output_type": "execute_result"
    }
   ],
   "source": [
    "table = pd.DataFrame({'A': [85, 87, 92, 80, 84],\n",
    "                     'B': [91, 91, 92, 86, 90]})\n",
    "table"
   ]
  },
  {
   "cell_type": "code",
   "execution_count": 9,
   "metadata": {},
   "outputs": [],
   "source": [
    "import autoreload\n",
    "%load_ext autoreload\n",
    "%autoreload 2"
   ]
  },
  {
   "cell_type": "code",
   "execution_count": 10,
   "metadata": {},
   "outputs": [],
   "source": [
    "from P4 import *"
   ]
  },
  {
   "cell_type": "code",
   "execution_count": 11,
   "metadata": {},
   "outputs": [
    {
     "data": {
      "text/html": [
       "<div>\n",
       "<style scoped>\n",
       "    .dataframe tbody tr th:only-of-type {\n",
       "        vertical-align: middle;\n",
       "    }\n",
       "\n",
       "    .dataframe tbody tr th {\n",
       "        vertical-align: top;\n",
       "    }\n",
       "\n",
       "    .dataframe thead th {\n",
       "        text-align: right;\n",
       "    }\n",
       "</style>\n",
       "<table border=\"1\" class=\"dataframe\">\n",
       "  <thead>\n",
       "    <tr style=\"text-align: right;\">\n",
       "      <th></th>\n",
       "      <th>n</th>\n",
       "      <th>SQ</th>\n",
       "      <th>QM</th>\n",
       "      <th>F</th>\n",
       "    </tr>\n",
       "  </thead>\n",
       "  <tbody>\n",
       "    <tr>\n",
       "      <th>Entre</th>\n",
       "      <td>1</td>\n",
       "      <td>48.4</td>\n",
       "      <td>48.4</td>\n",
       "      <td>3.9</td>\n",
       "    </tr>\n",
       "    <tr>\n",
       "      <th>Dentro</th>\n",
       "      <td>8</td>\n",
       "      <td>99.2</td>\n",
       "      <td>12.4</td>\n",
       "      <td>3.9</td>\n",
       "    </tr>\n",
       "    <tr>\n",
       "      <th>Total</th>\n",
       "      <td>9</td>\n",
       "      <td>147.6</td>\n",
       "      <td>16.4</td>\n",
       "      <td>3.9</td>\n",
       "    </tr>\n",
       "  </tbody>\n",
       "</table>\n",
       "</div>"
      ],
      "text/plain": [
       "        n     SQ    QM    F\n",
       "Entre   1   48.4  48.4  3.9\n",
       "Dentro  8   99.2  12.4  3.9\n",
       "Total   9  147.6  16.4  3.9"
      ]
     },
     "execution_count": 11,
     "metadata": {},
     "output_type": "execute_result"
    }
   ],
   "source": [
    "ANOVA = tabela_ANOVA_from_table(table)\n",
    "ANOVA.round(2)"
   ]
  },
  {
   "cell_type": "markdown",
   "metadata": {},
   "source": [
    "É possível testar a hipótese $H_0:\\, \\mu_1=\\mu_2=\\dots=\\mu_K$ e $H_1:\\, \\mu_i\\ne\\mu_{i'}$ para pelo menos um par $(i, i')$. Para este teste, a região crítica é dada por\n",
    "$$RC = \\{F\\in\\mathbb{R} | F>f_c\\}$$\n",
    "onde $f_c = F_{k-1, n-k}$."
   ]
  },
  {
   "cell_type": "markdown",
   "metadata": {},
   "source": [
    "Para $k-1=1$ e $n-k=8$, $f_c = F_{1, 8} = 5.32$, ou seja, $RC = \\{F\\in\\mathbb{R} | F>5.32\\}$. Como $F_{obs}=3.90$, então $H_0$ não é rejeitado, ou seja $\\mu_A=\\mu_B$. Logo, não existem evidências de que uma amrca seja melhor do que outra."
   ]
  },
  {
   "cell_type": "code",
   "execution_count": 12,
   "metadata": {},
   "outputs": [
    {
     "data": {
      "text/plain": [
       "<matplotlib.axes._subplots.AxesSubplot at 0x7fd5f0ea7c88>"
      ]
     },
     "execution_count": 12,
     "metadata": {},
     "output_type": "execute_result"
    },
    {
     "data": {
      "image/png": "[encoded data removed]",
      "text/plain": [
       "<Figure size 432x288 with 1 Axes>"
      ]
     },
     "metadata": {
      "needs_background": "light"
     },
     "output_type": "display_data"
    }
   ],
   "source": [
    "import seaborn as sns\n",
    "sns.barplot(data = table)"
   ]
  },
  {
   "cell_type": "markdown",
   "metadata": {},
   "source": [
    "## Ex. 6"
   ]
  },
  {
   "cell_type": "markdown",
   "metadata": {},
   "source": [
    "Importando a tabela fornecida:"
   ]
  },
  {
   "cell_type": "code",
   "execution_count": 13,
   "metadata": {},
   "outputs": [],
   "source": [
    "table = pd.DataFrame({'A': [8, 6, 7, 5, 8],\n",
    "                     'B': [4, -2, 0, -2, 3],\n",
    "                     'C': [1, 2, 0, -1, -3],\n",
    "                     'D': [4, 6, 5, 5, 4],\n",
    "                     'E': [10, 8, 7, 4, 9]})"
   ]
  },
  {
   "cell_type": "code",
   "execution_count": 15,
   "metadata": {},
   "outputs": [
    {
     "data": {
      "text/html": [
       "<div>\n",
       "<style scoped>\n",
       "    .dataframe tbody tr th:only-of-type {\n",
       "        vertical-align: middle;\n",
       "    }\n",
       "\n",
       "    .dataframe tbody tr th {\n",
       "        vertical-align: top;\n",
       "    }\n",
       "\n",
       "    .dataframe thead th {\n",
       "        text-align: right;\n",
       "    }\n",
       "</style>\n",
       "<table border=\"1\" class=\"dataframe\">\n",
       "  <thead>\n",
       "    <tr style=\"text-align: right;\">\n",
       "      <th></th>\n",
       "      <th>n</th>\n",
       "      <th>SQ</th>\n",
       "      <th>QM</th>\n",
       "      <th>F</th>\n",
       "    </tr>\n",
       "  </thead>\n",
       "  <tbody>\n",
       "    <tr>\n",
       "      <th>Entre</th>\n",
       "      <td>4</td>\n",
       "      <td>253.04</td>\n",
       "      <td>63.26</td>\n",
       "      <td>16.47</td>\n",
       "    </tr>\n",
       "    <tr>\n",
       "      <th>Dentro</th>\n",
       "      <td>20</td>\n",
       "      <td>76.80</td>\n",
       "      <td>3.84</td>\n",
       "      <td>16.47</td>\n",
       "    </tr>\n",
       "    <tr>\n",
       "      <th>Total</th>\n",
       "      <td>24</td>\n",
       "      <td>329.84</td>\n",
       "      <td>13.74</td>\n",
       "      <td>16.47</td>\n",
       "    </tr>\n",
       "  </tbody>\n",
       "</table>\n",
       "</div>"
      ],
      "text/plain": [
       "         n      SQ     QM      F\n",
       "Entre    4  253.04  63.26  16.47\n",
       "Dentro  20   76.80   3.84  16.47\n",
       "Total   24  329.84  13.74  16.47"
      ]
     },
     "execution_count": 15,
     "metadata": {},
     "output_type": "execute_result"
    }
   ],
   "source": [
    "ANOVA = tabela_ANOVA_from_table(table)\n",
    "ANOVA.round(2)"
   ]
  },
  {
   "cell_type": "markdown",
   "metadata": {},
   "source": [
    "Testando as hipóteses $H0:\\, \\mu_1=\\mu_2=\\dots=\\mu_K$ e $H1:\\, \\mu_i\\ne\\mu_{i'}$ para pelo menos um par $(i, i')$, a região crítica será $RC = \\{F\\in\\mathbb{R} | F>f_c\\}$, onde $f_c=F_{k-1, n-k}$.\n",
    "\n",
    "Para $k-1=5$ e $n-k=20$, $f_c = F_{5, 20}=2.71$, ou seja, $RC = \\{F\\in\\mathbb{R} | F>2.71\\}$. Como $F_{obs} = 16.47$, então $F_{obs}\\in RC$, de forma que $H_0$ é rejeitado e portanto exista pelo menos um par $(i, i')$ tal que $\\mu_i\\ne\\mu_{i'}$."
   ]
  },
  {
   "cell_type": "markdown",
   "metadata": {},
   "source": [
    "Para verificar quais pares $(i, i')$ se diferenciam entre sí, é realizado testes através de intervalos de confiança, que são dados por\n",
    "$$IC(\\mu_i-\\mu_{i'}, 100(1-\\alpha)\\%) = (\\bar{y}_i-\\bar{y}_{i'} \\pm C_{i, i'})$$\n",
    "onde $C_{i, i'} = t_{\\frac{\\alpha *}{2}, n-k}S_e\\sqrt{\\frac{1}{n_i}+\\frac{1}{n_{i'}}}$, $\\alpha * = \\dfrac{\\alpha}{\\binom{K}{2}}$ e $S_e = \\sqrt{QMDen}$. Aqui, como $n_i=n_{i'}\\forall(i, i')$, então $C_{i, i'} = C = t_{\\frac{\\alpha *}{2}, n-k}S_e\\sqrt{\\dfrac{2}{n_i}}$"
   ]
  },
  {
   "cell_type": "markdown",
   "metadata": {},
   "source": [
    "Ainda, para se determinar se algum valor é diferente de outro, o intervalo de confiança não deve conter o valor $0$, o que é valido apenas para as condições\n",
    "$$\\bar{y}_i-\\bar{y}_{i'} > C$$\n",
    "ou\n",
    "$$\\bar{y}_i-\\bar{y}_{i'} < -C$$"
   ]
  },
  {
   "cell_type": "code",
   "execution_count": 18,
   "metadata": {},
   "outputs": [],
   "source": [
    "from scipy.special import binom"
   ]
  },
  {
   "cell_type": "code",
   "execution_count": 23,
   "metadata": {},
   "outputs": [],
   "source": [
    "means = table.mean()\n",
    "alp = 0.05\n",
    "ni, k = table.shape\n",
    "n = n*k\n",
    "\n",
    "Se2 = ANOVA['QM'].loc['Dentro']\n",
    "alp_estr = alp/binom(k, 2)"
   ]
  },
  {
   "cell_type": "code",
   "execution_count": 22,
   "metadata": {},
   "outputs": [
    {
     "data": {
      "text/plain": [
       "2.915"
      ]
     },
     "execution_count": 22,
     "metadata": {},
     "output_type": "execute_result"
    }
   ],
   "source": [
    "from student import *\n",
    "t = find_t(1-alp_estr, n-k)\n",
    "t"
   ]
  },
  {
   "cell_type": "code",
   "execution_count": 33,
   "metadata": {},
   "outputs": [
    {
     "data": {
      "text/plain": [
       "3.612718865342277"
      ]
     },
     "execution_count": 33,
     "metadata": {},
     "output_type": "execute_result"
    }
   ],
   "source": [
    "C = t*np.sqrt(Se2*2/ni)\n",
    "C"
   ]
  },
  {
   "cell_type": "code",
   "execution_count": 44,
   "metadata": {},
   "outputs": [],
   "source": [
    "from itertools import combinations\n",
    "arr = range(len(table.columns))\n",
    "comb = list(combinations(arr, 2))"
   ]
  },
  {
   "cell_type": "code",
   "execution_count": 59,
   "metadata": {},
   "outputs": [],
   "source": [
    "def test_diff(table, C):\n",
    "    arr = range(len(table.columns))\n",
    "    comb = list(combinations(arr, 2))\n",
    "    \n",
    "    means = table.mean()\n",
    "    \n",
    "    cols = table.columns\n",
    "    l = 0\n",
    "    print('C: ' + str(C))\n",
    "    for m in comb:\n",
    "        i = cols[m[0]]\n",
    "        j = cols[m[1]]\n",
    "        \n",
    "        diff = means[i]-means[j]\n",
    "        print(i + ' - ' + j + ': ' + str(diff))\n",
    "        print('> C?: ' + str(diff>C))\n",
    "        print('< -C?: ' + str(diff<-C))\n",
    "        print('---------')\n",
    "        "
   ]
  },
  {
   "cell_type": "code",
   "execution_count": 60,
   "metadata": {},
   "outputs": [
    {
     "name": "stdout",
     "output_type": "stream",
     "text": [
      "C: 3.612718865342277\n",
      "A - B: 6.2\n",
      "> C?: True\n",
      "< -C?: False\n",
      "---------\n",
      "A - C: 7.0\n",
      "> C?: True\n",
      "< -C?: False\n",
      "---------\n",
      "A - D: 2.0\n",
      "> C?: False\n",
      "< -C?: False\n",
      "---------\n",
      "A - E: -0.7999999999999998\n",
      "> C?: False\n",
      "< -C?: False\n",
      "---------\n",
      "B - C: 0.8\n",
      "> C?: False\n",
      "< -C?: False\n",
      "---------\n",
      "B - D: -4.2\n",
      "> C?: False\n",
      "< -C?: True\n",
      "---------\n",
      "B - E: -7.0\n",
      "> C?: False\n",
      "< -C?: True\n",
      "---------\n",
      "C - D: -5.0\n",
      "> C?: False\n",
      "< -C?: True\n",
      "---------\n",
      "C - E: -7.8\n",
      "> C?: False\n",
      "< -C?: True\n",
      "---------\n",
      "D - E: -2.8\n",
      "> C?: False\n",
      "< -C?: False\n",
      "---------\n"
     ]
    }
   ],
   "source": [
    "test_diff(table, C)"
   ]
  },
  {
   "cell_type": "code",
   "execution_count": 61,
   "metadata": {},
   "outputs": [
    {
     "data": {
      "text/plain": [
       "A    6.8\n",
       "B    0.6\n",
       "C   -0.2\n",
       "D    4.8\n",
       "E    7.6\n",
       "dtype: float64"
      ]
     },
     "execution_count": 61,
     "metadata": {},
     "output_type": "execute_result"
    }
   ],
   "source": [
    "means"
   ]
  },
  {
   "cell_type": "markdown",
   "metadata": {},
   "source": [
    "Logo, os pares $(i, i')$ que se diferenciam entre sí são: $(\\mu_A, \\mu_B), \\, (\\mu_A, \\mu_C), \\, (\\mu_D, \\mu_B), \\, (\\mu_e, \\mu_B), \\, (\\mu_C, \\mu_D)\\, e \\, (\\mu_C, \\mu_E)$."
   ]
  },
  {
   "cell_type": "code",
   "execution_count": null,
   "metadata": {},
   "outputs": [],
   "source": []
  }
 ],
 "metadata": {
  "kernelspec": {
   "display_name": "Python 3",
   "language": "python",
   "name": "python3"
  },
  "language_info": {
   "codemirror_mode": {
    "name": "ipython",
    "version": 3
   },
   "file_extension": ".py",
   "mimetype": "text/x-python",
   "name": "python",
   "nbconvert_exporter": "python",
   "pygments_lexer": "ipython3",
   "version": "3.6.9"
  }
 },
 "nbformat": 4,
 "nbformat_minor": 4
}
